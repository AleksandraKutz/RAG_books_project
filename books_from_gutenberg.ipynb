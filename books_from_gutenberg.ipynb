{
 "cells": [
  {
   "cell_type": "code",
   "execution_count": 15,
   "id": "908c8e52-5167-4931-8f74-9789ffd4d8f5",
   "metadata": {},
   "outputs": [],
   "source": [
    "import requests"
   ]
  },
  {
   "cell_type": "code",
   "execution_count": 16,
   "id": "fb4fded9-3a4f-45bb-87aa-6ae5471121fe",
   "metadata": {},
   "outputs": [],
   "source": [
    "books = {\n",
    "    \"How_to_live_24_hours_a_day.txt\": \"https://www.gutenberg.org/cache/epub/2274/pg2274.txt\",\n",
    "    \"Self_help.txt\": \"https://www.gutenberg.org/cache/epub/935/pg935.txt\",\n",
    "    \"Science_of_getting_rich.txt\": \"https://www.gutenberg.org/files/65110/65110-0.txt\",\n",
    "    \"Acres_of_Diamonds.txt\": \"https://www.gutenberg.org/cache/epub/368/pg368.txt\",\n",
    "    \"As_a_man_thinketh.txt\": \"https://www.gutenberg.org/cache/epub/4507/pg4507.txt\",\n",
    "    \"The_Principles_of_Scientific_Management.txt\": \"https://www.gutenberg.org/cache/epub/6435/pg6435.txt\",\n",
    "}\n"
   ]
  },
  {
   "cell_type": "code",
   "execution_count": 17,
   "id": "39f7f116-3840-4a37-8712-ab214787e9cb",
   "metadata": {},
   "outputs": [],
   "source": [
    "save_dir = \"gutenberg_books\""
   ]
  },
  {
   "cell_type": "code",
   "execution_count": 18,
   "id": "b1ca7197-8457-41f3-80d2-42cb1d5d9209",
   "metadata": {},
   "outputs": [
    {
     "name": "stdout",
     "output_type": "stream",
     "text": [
      "Downloaded: How_to_live_24_hours_a_day.txt\n",
      "Downloaded: Self_help.txt\n",
      "Downloaded: Science_of_getting_rich.txt\n",
      "Downloaded: Acres_of_Diamonds.txt\n",
      "Downloaded: As_a_man_thinketh.txt\n",
      "Downloaded: The_Principles_of_Scientific_Management.txt\n"
     ]
    }
   ],
   "source": [
    "for filename, url in books.items():\n",
    "    response = requests.get(url)\n",
    "    if response.status_code == 200:\n",
    "        with open(f\"{save_dir}/{filename}\", \"w\", encoding=\"utf-8\") as f:\n",
    "            f.write(response.text)\n",
    "        print(f\"Downloaded: {filename}\")\n",
    "    else:\n",
    "        print(f\"Error while downloading: {filename}\")"
   ]
  },
  {
   "cell_type": "code",
   "execution_count": null,
   "id": "850b9502-8671-4801-9540-a8d61600884e",
   "metadata": {},
   "outputs": [],
   "source": []
  },
  {
   "cell_type": "code",
   "execution_count": null,
   "id": "181a3958-01e8-4e79-a3c3-3cd300e49def",
   "metadata": {},
   "outputs": [],
   "source": []
  },
  {
   "cell_type": "code",
   "execution_count": null,
   "id": "5335f3ea-19fd-441e-8128-63f2f0e6f17a",
   "metadata": {},
   "outputs": [],
   "source": []
  },
  {
   "cell_type": "code",
   "execution_count": null,
   "id": "ccd654d2-b266-4225-b5dc-752eb4785ace",
   "metadata": {},
   "outputs": [],
   "source": []
  }
 ],
 "metadata": {
  "kernelspec": {
   "display_name": "Python 3 (ipykernel)",
   "language": "python",
   "name": "python3"
  },
  "language_info": {
   "codemirror_mode": {
    "name": "ipython",
    "version": 3
   },
   "file_extension": ".py",
   "mimetype": "text/x-python",
   "name": "python",
   "nbconvert_exporter": "python",
   "pygments_lexer": "ipython3",
   "version": "3.10.13"
  }
 },
 "nbformat": 4,
 "nbformat_minor": 5
}
